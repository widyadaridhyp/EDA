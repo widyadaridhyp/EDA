{
  "nbformat": 4,
  "nbformat_minor": 0,
  "metadata": {
    "colab": {
      "name": "Widyadari Dhiya Parahita_2006572913_Kelas B_Soal Bonus Praktikum EDA.ipynb",
      "provenance": []
    },
    "kernelspec": {
      "name": "python3",
      "display_name": "Python 3"
    },
    "language_info": {
      "name": "python"
    }
  },
  "cells": [
    {
      "cell_type": "markdown",
      "metadata": {
        "id": "EptOWvPe4ao8"
      },
      "source": [
        "##Import modul yang dibutuhkan kemudian masukan code untuk menentukan data yang terdapat pada soal"
      ]
    },
    {
      "cell_type": "code",
      "metadata": {
        "id": "5ip0oD8VqIoz",
        "colab": {
          "base_uri": "https://localhost:8080/",
          "height": 412
        },
        "outputId": "c4184135-942e-4096-bfdc-534b69e4b563"
      },
      "source": [
        "import pandas as pd \n",
        "import numpy as np\n",
        "import matplotlib.pyplot as plt\n",
        "import seaborn as sns\n",
        "\n",
        "NPM = 2006572913\n",
        "data = {'NPM': np.random.randint(NPM-10000,NPM+10000,1000),\n",
        "        'Nilai UTS': np.random.binomial(100,0.7,1000),\n",
        "        'Nilai UAS': np.random.binomial(100,0.3,1000),\n",
        "        'Nilai Tugas': np.random.normal(80,10,1000),\n",
        "        'Kelas': 250*['A','B','C','D']}\n",
        "\n",
        "df = pd.DataFrame(data)\n",
        "df"
      ],
      "execution_count": null,
      "outputs": [
        {
          "output_type": "execute_result",
          "data": {
            "text/html": [
              "<div>\n",
              "<style scoped>\n",
              "    .dataframe tbody tr th:only-of-type {\n",
              "        vertical-align: middle;\n",
              "    }\n",
              "\n",
              "    .dataframe tbody tr th {\n",
              "        vertical-align: top;\n",
              "    }\n",
              "\n",
              "    .dataframe thead th {\n",
              "        text-align: right;\n",
              "    }\n",
              "</style>\n",
              "<table border=\"1\" class=\"dataframe\">\n",
              "  <thead>\n",
              "    <tr style=\"text-align: right;\">\n",
              "      <th></th>\n",
              "      <th>NPM</th>\n",
              "      <th>Nilai UTS</th>\n",
              "      <th>Nilai UAS</th>\n",
              "      <th>Nilai Tugas</th>\n",
              "      <th>Kelas</th>\n",
              "    </tr>\n",
              "  </thead>\n",
              "  <tbody>\n",
              "    <tr>\n",
              "      <th>0</th>\n",
              "      <td>2006579135</td>\n",
              "      <td>74</td>\n",
              "      <td>34</td>\n",
              "      <td>77.498476</td>\n",
              "      <td>A</td>\n",
              "    </tr>\n",
              "    <tr>\n",
              "      <th>1</th>\n",
              "      <td>2006569638</td>\n",
              "      <td>75</td>\n",
              "      <td>34</td>\n",
              "      <td>94.832276</td>\n",
              "      <td>B</td>\n",
              "    </tr>\n",
              "    <tr>\n",
              "      <th>2</th>\n",
              "      <td>2006574947</td>\n",
              "      <td>70</td>\n",
              "      <td>34</td>\n",
              "      <td>76.895431</td>\n",
              "      <td>C</td>\n",
              "    </tr>\n",
              "    <tr>\n",
              "      <th>3</th>\n",
              "      <td>2006580151</td>\n",
              "      <td>73</td>\n",
              "      <td>22</td>\n",
              "      <td>84.446260</td>\n",
              "      <td>D</td>\n",
              "    </tr>\n",
              "    <tr>\n",
              "      <th>4</th>\n",
              "      <td>2006577175</td>\n",
              "      <td>62</td>\n",
              "      <td>40</td>\n",
              "      <td>85.817548</td>\n",
              "      <td>A</td>\n",
              "    </tr>\n",
              "    <tr>\n",
              "      <th>...</th>\n",
              "      <td>...</td>\n",
              "      <td>...</td>\n",
              "      <td>...</td>\n",
              "      <td>...</td>\n",
              "      <td>...</td>\n",
              "    </tr>\n",
              "    <tr>\n",
              "      <th>995</th>\n",
              "      <td>2006581230</td>\n",
              "      <td>70</td>\n",
              "      <td>37</td>\n",
              "      <td>77.629842</td>\n",
              "      <td>D</td>\n",
              "    </tr>\n",
              "    <tr>\n",
              "      <th>996</th>\n",
              "      <td>2006572065</td>\n",
              "      <td>76</td>\n",
              "      <td>25</td>\n",
              "      <td>69.508886</td>\n",
              "      <td>A</td>\n",
              "    </tr>\n",
              "    <tr>\n",
              "      <th>997</th>\n",
              "      <td>2006570470</td>\n",
              "      <td>73</td>\n",
              "      <td>36</td>\n",
              "      <td>81.992458</td>\n",
              "      <td>B</td>\n",
              "    </tr>\n",
              "    <tr>\n",
              "      <th>998</th>\n",
              "      <td>2006579772</td>\n",
              "      <td>69</td>\n",
              "      <td>36</td>\n",
              "      <td>74.775040</td>\n",
              "      <td>C</td>\n",
              "    </tr>\n",
              "    <tr>\n",
              "      <th>999</th>\n",
              "      <td>2006574298</td>\n",
              "      <td>71</td>\n",
              "      <td>32</td>\n",
              "      <td>94.340206</td>\n",
              "      <td>D</td>\n",
              "    </tr>\n",
              "  </tbody>\n",
              "</table>\n",
              "<p>1000 rows × 5 columns</p>\n",
              "</div>"
            ],
            "text/plain": [
              "            NPM  Nilai UTS  Nilai UAS  Nilai Tugas Kelas\n",
              "0    2006579135         74         34    77.498476     A\n",
              "1    2006569638         75         34    94.832276     B\n",
              "2    2006574947         70         34    76.895431     C\n",
              "3    2006580151         73         22    84.446260     D\n",
              "4    2006577175         62         40    85.817548     A\n",
              "..          ...        ...        ...          ...   ...\n",
              "995  2006581230         70         37    77.629842     D\n",
              "996  2006572065         76         25    69.508886     A\n",
              "997  2006570470         73         36    81.992458     B\n",
              "998  2006579772         69         36    74.775040     C\n",
              "999  2006574298         71         32    94.340206     D\n",
              "\n",
              "[1000 rows x 5 columns]"
            ]
          },
          "metadata": {
            "tags": []
          },
          "execution_count": 1
        }
      ]
    },
    {
      "cell_type": "markdown",
      "metadata": {
        "id": "9CWC4BE04q3v"
      },
      "source": [
        "##Gunakan rumus ini untuk menentukan bobot yang sesuai pada soal yang kemudian akan ditambahkan ke kolom baru"
      ]
    },
    {
      "cell_type": "code",
      "metadata": {
        "colab": {
          "base_uri": "https://localhost:8080/",
          "height": 412
        },
        "id": "2SxYiAPIe32s",
        "outputId": "f2eea1da-19bd-4a4a-b390-68623780e93d"
      },
      "source": [
        "df['Nilai Akhir'] = df['Nilai UTS']*0.35+df['Nilai UAS']*0.4+df['Nilai Tugas']*0.25 \n",
        "df"
      ],
      "execution_count": null,
      "outputs": [
        {
          "output_type": "execute_result",
          "data": {
            "text/html": [
              "<div>\n",
              "<style scoped>\n",
              "    .dataframe tbody tr th:only-of-type {\n",
              "        vertical-align: middle;\n",
              "    }\n",
              "\n",
              "    .dataframe tbody tr th {\n",
              "        vertical-align: top;\n",
              "    }\n",
              "\n",
              "    .dataframe thead th {\n",
              "        text-align: right;\n",
              "    }\n",
              "</style>\n",
              "<table border=\"1\" class=\"dataframe\">\n",
              "  <thead>\n",
              "    <tr style=\"text-align: right;\">\n",
              "      <th></th>\n",
              "      <th>NPM</th>\n",
              "      <th>Nilai UTS</th>\n",
              "      <th>Nilai UAS</th>\n",
              "      <th>Nilai Tugas</th>\n",
              "      <th>Kelas</th>\n",
              "      <th>Nilai Akhir</th>\n",
              "    </tr>\n",
              "  </thead>\n",
              "  <tbody>\n",
              "    <tr>\n",
              "      <th>0</th>\n",
              "      <td>2006579135</td>\n",
              "      <td>74</td>\n",
              "      <td>34</td>\n",
              "      <td>77.498476</td>\n",
              "      <td>A</td>\n",
              "      <td>58.874619</td>\n",
              "    </tr>\n",
              "    <tr>\n",
              "      <th>1</th>\n",
              "      <td>2006569638</td>\n",
              "      <td>75</td>\n",
              "      <td>34</td>\n",
              "      <td>94.832276</td>\n",
              "      <td>B</td>\n",
              "      <td>63.558069</td>\n",
              "    </tr>\n",
              "    <tr>\n",
              "      <th>2</th>\n",
              "      <td>2006574947</td>\n",
              "      <td>70</td>\n",
              "      <td>34</td>\n",
              "      <td>76.895431</td>\n",
              "      <td>C</td>\n",
              "      <td>57.323858</td>\n",
              "    </tr>\n",
              "    <tr>\n",
              "      <th>3</th>\n",
              "      <td>2006580151</td>\n",
              "      <td>73</td>\n",
              "      <td>22</td>\n",
              "      <td>84.446260</td>\n",
              "      <td>D</td>\n",
              "      <td>55.461565</td>\n",
              "    </tr>\n",
              "    <tr>\n",
              "      <th>4</th>\n",
              "      <td>2006577175</td>\n",
              "      <td>62</td>\n",
              "      <td>40</td>\n",
              "      <td>85.817548</td>\n",
              "      <td>A</td>\n",
              "      <td>59.154387</td>\n",
              "    </tr>\n",
              "    <tr>\n",
              "      <th>...</th>\n",
              "      <td>...</td>\n",
              "      <td>...</td>\n",
              "      <td>...</td>\n",
              "      <td>...</td>\n",
              "      <td>...</td>\n",
              "      <td>...</td>\n",
              "    </tr>\n",
              "    <tr>\n",
              "      <th>995</th>\n",
              "      <td>2006581230</td>\n",
              "      <td>70</td>\n",
              "      <td>37</td>\n",
              "      <td>77.629842</td>\n",
              "      <td>D</td>\n",
              "      <td>58.707461</td>\n",
              "    </tr>\n",
              "    <tr>\n",
              "      <th>996</th>\n",
              "      <td>2006572065</td>\n",
              "      <td>76</td>\n",
              "      <td>25</td>\n",
              "      <td>69.508886</td>\n",
              "      <td>A</td>\n",
              "      <td>53.977222</td>\n",
              "    </tr>\n",
              "    <tr>\n",
              "      <th>997</th>\n",
              "      <td>2006570470</td>\n",
              "      <td>73</td>\n",
              "      <td>36</td>\n",
              "      <td>81.992458</td>\n",
              "      <td>B</td>\n",
              "      <td>60.448115</td>\n",
              "    </tr>\n",
              "    <tr>\n",
              "      <th>998</th>\n",
              "      <td>2006579772</td>\n",
              "      <td>69</td>\n",
              "      <td>36</td>\n",
              "      <td>74.775040</td>\n",
              "      <td>C</td>\n",
              "      <td>57.243760</td>\n",
              "    </tr>\n",
              "    <tr>\n",
              "      <th>999</th>\n",
              "      <td>2006574298</td>\n",
              "      <td>71</td>\n",
              "      <td>32</td>\n",
              "      <td>94.340206</td>\n",
              "      <td>D</td>\n",
              "      <td>61.235051</td>\n",
              "    </tr>\n",
              "  </tbody>\n",
              "</table>\n",
              "<p>1000 rows × 6 columns</p>\n",
              "</div>"
            ],
            "text/plain": [
              "            NPM  Nilai UTS  Nilai UAS  Nilai Tugas Kelas  Nilai Akhir\n",
              "0    2006579135         74         34    77.498476     A    58.874619\n",
              "1    2006569638         75         34    94.832276     B    63.558069\n",
              "2    2006574947         70         34    76.895431     C    57.323858\n",
              "3    2006580151         73         22    84.446260     D    55.461565\n",
              "4    2006577175         62         40    85.817548     A    59.154387\n",
              "..          ...        ...        ...          ...   ...          ...\n",
              "995  2006581230         70         37    77.629842     D    58.707461\n",
              "996  2006572065         76         25    69.508886     A    53.977222\n",
              "997  2006570470         73         36    81.992458     B    60.448115\n",
              "998  2006579772         69         36    74.775040     C    57.243760\n",
              "999  2006574298         71         32    94.340206     D    61.235051\n",
              "\n",
              "[1000 rows x 6 columns]"
            ]
          },
          "metadata": {
            "tags": []
          },
          "execution_count": 2
        }
      ]
    },
    {
      "cell_type": "markdown",
      "metadata": {
        "id": "HaEFEDP245MO"
      },
      "source": [
        "##Gunakan suatu condisi menggunakan np.select(conlist,choicelist, default=0) untuk menentukan nilai huruf yang diberikan syarat pada soal"
      ]
    },
    {
      "cell_type": "code",
      "metadata": {
        "colab": {
          "base_uri": "https://localhost:8080/",
          "height": 412
        },
        "id": "wyYDU1XbB1xG",
        "outputId": "ece6a40b-cfce-47c6-b7cb-5ad200c8d241"
      },
      "source": [
        "Conlist = [(df['Nilai Akhir']>=85), \n",
        "           (df['Nilai Akhir']<85)&(df['Nilai Akhir']>=75),\n",
        "           (df['Nilai Akhir']<75)&(df['Nilai Akhir']>=65),\n",
        "           (df['Nilai Akhir']<65)&(df['Nilai Akhir']>=55),\n",
        "           (df['Nilai Akhir']<55)]\n",
        "Choicelist = ['A','B','C','D','E']\n",
        "df['Nilai Huruf'] = np.select(Conlist,Choicelist)\n",
        "df"
      ],
      "execution_count": null,
      "outputs": [
        {
          "output_type": "execute_result",
          "data": {
            "text/html": [
              "<div>\n",
              "<style scoped>\n",
              "    .dataframe tbody tr th:only-of-type {\n",
              "        vertical-align: middle;\n",
              "    }\n",
              "\n",
              "    .dataframe tbody tr th {\n",
              "        vertical-align: top;\n",
              "    }\n",
              "\n",
              "    .dataframe thead th {\n",
              "        text-align: right;\n",
              "    }\n",
              "</style>\n",
              "<table border=\"1\" class=\"dataframe\">\n",
              "  <thead>\n",
              "    <tr style=\"text-align: right;\">\n",
              "      <th></th>\n",
              "      <th>NPM</th>\n",
              "      <th>Nilai UTS</th>\n",
              "      <th>Nilai UAS</th>\n",
              "      <th>Nilai Tugas</th>\n",
              "      <th>Kelas</th>\n",
              "      <th>Nilai Akhir</th>\n",
              "      <th>Nilai Huruf</th>\n",
              "    </tr>\n",
              "  </thead>\n",
              "  <tbody>\n",
              "    <tr>\n",
              "      <th>0</th>\n",
              "      <td>2006579135</td>\n",
              "      <td>74</td>\n",
              "      <td>34</td>\n",
              "      <td>77.498476</td>\n",
              "      <td>A</td>\n",
              "      <td>58.874619</td>\n",
              "      <td>D</td>\n",
              "    </tr>\n",
              "    <tr>\n",
              "      <th>1</th>\n",
              "      <td>2006569638</td>\n",
              "      <td>75</td>\n",
              "      <td>34</td>\n",
              "      <td>94.832276</td>\n",
              "      <td>B</td>\n",
              "      <td>63.558069</td>\n",
              "      <td>D</td>\n",
              "    </tr>\n",
              "    <tr>\n",
              "      <th>2</th>\n",
              "      <td>2006574947</td>\n",
              "      <td>70</td>\n",
              "      <td>34</td>\n",
              "      <td>76.895431</td>\n",
              "      <td>C</td>\n",
              "      <td>57.323858</td>\n",
              "      <td>D</td>\n",
              "    </tr>\n",
              "    <tr>\n",
              "      <th>3</th>\n",
              "      <td>2006580151</td>\n",
              "      <td>73</td>\n",
              "      <td>22</td>\n",
              "      <td>84.446260</td>\n",
              "      <td>D</td>\n",
              "      <td>55.461565</td>\n",
              "      <td>D</td>\n",
              "    </tr>\n",
              "    <tr>\n",
              "      <th>4</th>\n",
              "      <td>2006577175</td>\n",
              "      <td>62</td>\n",
              "      <td>40</td>\n",
              "      <td>85.817548</td>\n",
              "      <td>A</td>\n",
              "      <td>59.154387</td>\n",
              "      <td>D</td>\n",
              "    </tr>\n",
              "    <tr>\n",
              "      <th>...</th>\n",
              "      <td>...</td>\n",
              "      <td>...</td>\n",
              "      <td>...</td>\n",
              "      <td>...</td>\n",
              "      <td>...</td>\n",
              "      <td>...</td>\n",
              "      <td>...</td>\n",
              "    </tr>\n",
              "    <tr>\n",
              "      <th>995</th>\n",
              "      <td>2006581230</td>\n",
              "      <td>70</td>\n",
              "      <td>37</td>\n",
              "      <td>77.629842</td>\n",
              "      <td>D</td>\n",
              "      <td>58.707461</td>\n",
              "      <td>D</td>\n",
              "    </tr>\n",
              "    <tr>\n",
              "      <th>996</th>\n",
              "      <td>2006572065</td>\n",
              "      <td>76</td>\n",
              "      <td>25</td>\n",
              "      <td>69.508886</td>\n",
              "      <td>A</td>\n",
              "      <td>53.977222</td>\n",
              "      <td>E</td>\n",
              "    </tr>\n",
              "    <tr>\n",
              "      <th>997</th>\n",
              "      <td>2006570470</td>\n",
              "      <td>73</td>\n",
              "      <td>36</td>\n",
              "      <td>81.992458</td>\n",
              "      <td>B</td>\n",
              "      <td>60.448115</td>\n",
              "      <td>D</td>\n",
              "    </tr>\n",
              "    <tr>\n",
              "      <th>998</th>\n",
              "      <td>2006579772</td>\n",
              "      <td>69</td>\n",
              "      <td>36</td>\n",
              "      <td>74.775040</td>\n",
              "      <td>C</td>\n",
              "      <td>57.243760</td>\n",
              "      <td>D</td>\n",
              "    </tr>\n",
              "    <tr>\n",
              "      <th>999</th>\n",
              "      <td>2006574298</td>\n",
              "      <td>71</td>\n",
              "      <td>32</td>\n",
              "      <td>94.340206</td>\n",
              "      <td>D</td>\n",
              "      <td>61.235051</td>\n",
              "      <td>D</td>\n",
              "    </tr>\n",
              "  </tbody>\n",
              "</table>\n",
              "<p>1000 rows × 7 columns</p>\n",
              "</div>"
            ],
            "text/plain": [
              "            NPM  Nilai UTS  Nilai UAS  ...  Kelas Nilai Akhir  Nilai Huruf\n",
              "0    2006579135         74         34  ...      A   58.874619            D\n",
              "1    2006569638         75         34  ...      B   63.558069            D\n",
              "2    2006574947         70         34  ...      C   57.323858            D\n",
              "3    2006580151         73         22  ...      D   55.461565            D\n",
              "4    2006577175         62         40  ...      A   59.154387            D\n",
              "..          ...        ...        ...  ...    ...         ...          ...\n",
              "995  2006581230         70         37  ...      D   58.707461            D\n",
              "996  2006572065         76         25  ...      A   53.977222            E\n",
              "997  2006570470         73         36  ...      B   60.448115            D\n",
              "998  2006579772         69         36  ...      C   57.243760            D\n",
              "999  2006574298         71         32  ...      D   61.235051            D\n",
              "\n",
              "[1000 rows x 7 columns]"
            ]
          },
          "metadata": {
            "tags": []
          },
          "execution_count": 3
        }
      ]
    },
    {
      "cell_type": "markdown",
      "metadata": {
        "id": "DnL_YJfN5JiH"
      },
      "source": [
        "##Hapus kolom NPM untuk mencari suatu insight pada tiap jenis nilai"
      ]
    },
    {
      "cell_type": "code",
      "metadata": {
        "colab": {
          "base_uri": "https://localhost:8080/",
          "height": 412
        },
        "id": "1JquwXNbHgVY",
        "outputId": "855d2106-fb2b-4af1-c7e5-b7395ecfedaa"
      },
      "source": [
        "nilai_only = df.drop(['NPM'], axis=1) \n",
        "nilai_only"
      ],
      "execution_count": null,
      "outputs": [
        {
          "output_type": "execute_result",
          "data": {
            "text/html": [
              "<div>\n",
              "<style scoped>\n",
              "    .dataframe tbody tr th:only-of-type {\n",
              "        vertical-align: middle;\n",
              "    }\n",
              "\n",
              "    .dataframe tbody tr th {\n",
              "        vertical-align: top;\n",
              "    }\n",
              "\n",
              "    .dataframe thead th {\n",
              "        text-align: right;\n",
              "    }\n",
              "</style>\n",
              "<table border=\"1\" class=\"dataframe\">\n",
              "  <thead>\n",
              "    <tr style=\"text-align: right;\">\n",
              "      <th></th>\n",
              "      <th>Nilai UTS</th>\n",
              "      <th>Nilai UAS</th>\n",
              "      <th>Nilai Tugas</th>\n",
              "      <th>Kelas</th>\n",
              "      <th>Nilai Akhir</th>\n",
              "      <th>Nilai Huruf</th>\n",
              "    </tr>\n",
              "  </thead>\n",
              "  <tbody>\n",
              "    <tr>\n",
              "      <th>0</th>\n",
              "      <td>74</td>\n",
              "      <td>34</td>\n",
              "      <td>77.498476</td>\n",
              "      <td>A</td>\n",
              "      <td>58.874619</td>\n",
              "      <td>D</td>\n",
              "    </tr>\n",
              "    <tr>\n",
              "      <th>1</th>\n",
              "      <td>75</td>\n",
              "      <td>34</td>\n",
              "      <td>94.832276</td>\n",
              "      <td>B</td>\n",
              "      <td>63.558069</td>\n",
              "      <td>D</td>\n",
              "    </tr>\n",
              "    <tr>\n",
              "      <th>2</th>\n",
              "      <td>70</td>\n",
              "      <td>34</td>\n",
              "      <td>76.895431</td>\n",
              "      <td>C</td>\n",
              "      <td>57.323858</td>\n",
              "      <td>D</td>\n",
              "    </tr>\n",
              "    <tr>\n",
              "      <th>3</th>\n",
              "      <td>73</td>\n",
              "      <td>22</td>\n",
              "      <td>84.446260</td>\n",
              "      <td>D</td>\n",
              "      <td>55.461565</td>\n",
              "      <td>D</td>\n",
              "    </tr>\n",
              "    <tr>\n",
              "      <th>4</th>\n",
              "      <td>62</td>\n",
              "      <td>40</td>\n",
              "      <td>85.817548</td>\n",
              "      <td>A</td>\n",
              "      <td>59.154387</td>\n",
              "      <td>D</td>\n",
              "    </tr>\n",
              "    <tr>\n",
              "      <th>...</th>\n",
              "      <td>...</td>\n",
              "      <td>...</td>\n",
              "      <td>...</td>\n",
              "      <td>...</td>\n",
              "      <td>...</td>\n",
              "      <td>...</td>\n",
              "    </tr>\n",
              "    <tr>\n",
              "      <th>995</th>\n",
              "      <td>70</td>\n",
              "      <td>37</td>\n",
              "      <td>77.629842</td>\n",
              "      <td>D</td>\n",
              "      <td>58.707461</td>\n",
              "      <td>D</td>\n",
              "    </tr>\n",
              "    <tr>\n",
              "      <th>996</th>\n",
              "      <td>76</td>\n",
              "      <td>25</td>\n",
              "      <td>69.508886</td>\n",
              "      <td>A</td>\n",
              "      <td>53.977222</td>\n",
              "      <td>E</td>\n",
              "    </tr>\n",
              "    <tr>\n",
              "      <th>997</th>\n",
              "      <td>73</td>\n",
              "      <td>36</td>\n",
              "      <td>81.992458</td>\n",
              "      <td>B</td>\n",
              "      <td>60.448115</td>\n",
              "      <td>D</td>\n",
              "    </tr>\n",
              "    <tr>\n",
              "      <th>998</th>\n",
              "      <td>69</td>\n",
              "      <td>36</td>\n",
              "      <td>74.775040</td>\n",
              "      <td>C</td>\n",
              "      <td>57.243760</td>\n",
              "      <td>D</td>\n",
              "    </tr>\n",
              "    <tr>\n",
              "      <th>999</th>\n",
              "      <td>71</td>\n",
              "      <td>32</td>\n",
              "      <td>94.340206</td>\n",
              "      <td>D</td>\n",
              "      <td>61.235051</td>\n",
              "      <td>D</td>\n",
              "    </tr>\n",
              "  </tbody>\n",
              "</table>\n",
              "<p>1000 rows × 6 columns</p>\n",
              "</div>"
            ],
            "text/plain": [
              "     Nilai UTS  Nilai UAS  Nilai Tugas Kelas  Nilai Akhir Nilai Huruf\n",
              "0           74         34    77.498476     A    58.874619           D\n",
              "1           75         34    94.832276     B    63.558069           D\n",
              "2           70         34    76.895431     C    57.323858           D\n",
              "3           73         22    84.446260     D    55.461565           D\n",
              "4           62         40    85.817548     A    59.154387           D\n",
              "..         ...        ...          ...   ...          ...         ...\n",
              "995         70         37    77.629842     D    58.707461           D\n",
              "996         76         25    69.508886     A    53.977222           E\n",
              "997         73         36    81.992458     B    60.448115           D\n",
              "998         69         36    74.775040     C    57.243760           D\n",
              "999         71         32    94.340206     D    61.235051           D\n",
              "\n",
              "[1000 rows x 6 columns]"
            ]
          },
          "metadata": {
            "tags": []
          },
          "execution_count": 4
        }
      ]
    },
    {
      "cell_type": "markdown",
      "metadata": {
        "id": "IU7y7kie5T4J"
      },
      "source": [
        "##Pilih seluruh data yang berupa numeric untuk dilihat jumlah tiap orang yang mendapatkan nilai tertentu pada tiap jenis nilai. Kemudian visualisasikan dengan histogram"
      ]
    },
    {
      "cell_type": "code",
      "metadata": {
        "colab": {
          "base_uri": "https://localhost:8080/",
          "height": 205
        },
        "id": "LgI-PNsjvB0s",
        "outputId": "b28d8d4b-7066-457b-d781-aac715ed8a42"
      },
      "source": [
        "numerical = nilai_only.select_dtypes(include = ['int64','float64']).columns \n",
        "\n",
        "nilai_only[numerical].hist(figsize=(15, 6), layout=(2, 4));"
      ],
      "execution_count": null,
      "outputs": [
        {
          "output_type": "display_data",
          "data": {
            "image/png": "[encoded data removed]",
            "text/plain": [
              "<Figure size 1080x432 with 8 Axes>"
            ]
          },
          "metadata": {
            "tags": [],
            "needs_background": "light"
          }
        }
      ]
    },
    {
      "cell_type": "markdown",
      "metadata": {
        "id": "Ta2isnp75hVg"
      },
      "source": [
        "##Grup data tersebut berdasarkan huruf yang kemudian diikuti dengan kelas. Gunakan mean untuk mencari rata rata nilai huruf dari tiap kelas"
      ]
    },
    {
      "cell_type": "code",
      "metadata": {
        "colab": {
          "base_uri": "https://localhost:8080/",
          "height": 445
        },
        "id": "-1R9bTBtdylQ",
        "outputId": "fc33d754-eec8-4347-829f-f8b9b50964d2"
      },
      "source": [
        "nilai = nilai_only.groupby(['Nilai Huruf','Kelas']).mean() \n",
        "nilai"
      ],
      "execution_count": null,
      "outputs": [
        {
          "output_type": "execute_result",
          "data": {
            "text/html": [
              "<div>\n",
              "<style scoped>\n",
              "    .dataframe tbody tr th:only-of-type {\n",
              "        vertical-align: middle;\n",
              "    }\n",
              "\n",
              "    .dataframe tbody tr th {\n",
              "        vertical-align: top;\n",
              "    }\n",
              "\n",
              "    .dataframe thead th {\n",
              "        text-align: right;\n",
              "    }\n",
              "</style>\n",
              "<table border=\"1\" class=\"dataframe\">\n",
              "  <thead>\n",
              "    <tr style=\"text-align: right;\">\n",
              "      <th></th>\n",
              "      <th></th>\n",
              "      <th>Nilai UTS</th>\n",
              "      <th>Nilai UAS</th>\n",
              "      <th>Nilai Tugas</th>\n",
              "      <th>Nilai Akhir</th>\n",
              "    </tr>\n",
              "    <tr>\n",
              "      <th>Nilai Huruf</th>\n",
              "      <th>Kelas</th>\n",
              "      <th></th>\n",
              "      <th></th>\n",
              "      <th></th>\n",
              "      <th></th>\n",
              "    </tr>\n",
              "  </thead>\n",
              "  <tbody>\n",
              "    <tr>\n",
              "      <th rowspan=\"4\" valign=\"top\">C</th>\n",
              "      <th>A</th>\n",
              "      <td>75.333333</td>\n",
              "      <td>38.666667</td>\n",
              "      <td>93.588506</td>\n",
              "      <td>65.230460</td>\n",
              "    </tr>\n",
              "    <tr>\n",
              "      <th>B</th>\n",
              "      <td>75.500000</td>\n",
              "      <td>33.500000</td>\n",
              "      <td>102.870563</td>\n",
              "      <td>65.542641</td>\n",
              "    </tr>\n",
              "    <tr>\n",
              "      <th>C</th>\n",
              "      <td>72.000000</td>\n",
              "      <td>41.000000</td>\n",
              "      <td>108.553906</td>\n",
              "      <td>68.738476</td>\n",
              "    </tr>\n",
              "    <tr>\n",
              "      <th>D</th>\n",
              "      <td>71.666667</td>\n",
              "      <td>34.333333</td>\n",
              "      <td>107.020726</td>\n",
              "      <td>65.571848</td>\n",
              "    </tr>\n",
              "    <tr>\n",
              "      <th rowspan=\"4\" valign=\"top\">D</th>\n",
              "      <th>A</th>\n",
              "      <td>70.970414</td>\n",
              "      <td>31.497041</td>\n",
              "      <td>83.154640</td>\n",
              "      <td>58.227122</td>\n",
              "    </tr>\n",
              "    <tr>\n",
              "      <th>B</th>\n",
              "      <td>71.069182</td>\n",
              "      <td>30.710692</td>\n",
              "      <td>83.611319</td>\n",
              "      <td>58.061320</td>\n",
              "    </tr>\n",
              "    <tr>\n",
              "      <th>C</th>\n",
              "      <td>71.313609</td>\n",
              "      <td>31.508876</td>\n",
              "      <td>82.903521</td>\n",
              "      <td>58.289194</td>\n",
              "    </tr>\n",
              "    <tr>\n",
              "      <th>D</th>\n",
              "      <td>70.776316</td>\n",
              "      <td>31.697368</td>\n",
              "      <td>83.839646</td>\n",
              "      <td>58.410570</td>\n",
              "    </tr>\n",
              "    <tr>\n",
              "      <th rowspan=\"4\" valign=\"top\">E</th>\n",
              "      <th>A</th>\n",
              "      <td>67.461538</td>\n",
              "      <td>27.333333</td>\n",
              "      <td>72.752050</td>\n",
              "      <td>52.732884</td>\n",
              "    </tr>\n",
              "    <tr>\n",
              "      <th>B</th>\n",
              "      <td>67.528090</td>\n",
              "      <td>28.269663</td>\n",
              "      <td>72.290343</td>\n",
              "      <td>53.015282</td>\n",
              "    </tr>\n",
              "    <tr>\n",
              "      <th>C</th>\n",
              "      <td>68.475000</td>\n",
              "      <td>27.500000</td>\n",
              "      <td>70.477921</td>\n",
              "      <td>52.585730</td>\n",
              "    </tr>\n",
              "    <tr>\n",
              "      <th>D</th>\n",
              "      <td>67.631579</td>\n",
              "      <td>27.178947</td>\n",
              "      <td>72.382262</td>\n",
              "      <td>52.638197</td>\n",
              "    </tr>\n",
              "  </tbody>\n",
              "</table>\n",
              "</div>"
            ],
            "text/plain": [
              "                   Nilai UTS  Nilai UAS  Nilai Tugas  Nilai Akhir\n",
              "Nilai Huruf Kelas                                                \n",
              "C           A      75.333333  38.666667    93.588506    65.230460\n",
              "            B      75.500000  33.500000   102.870563    65.542641\n",
              "            C      72.000000  41.000000   108.553906    68.738476\n",
              "            D      71.666667  34.333333   107.020726    65.571848\n",
              "D           A      70.970414  31.497041    83.154640    58.227122\n",
              "            B      71.069182  30.710692    83.611319    58.061320\n",
              "            C      71.313609  31.508876    82.903521    58.289194\n",
              "            D      70.776316  31.697368    83.839646    58.410570\n",
              "E           A      67.461538  27.333333    72.752050    52.732884\n",
              "            B      67.528090  28.269663    72.290343    53.015282\n",
              "            C      68.475000  27.500000    70.477921    52.585730\n",
              "            D      67.631579  27.178947    72.382262    52.638197"
            ]
          },
          "metadata": {
            "tags": []
          },
          "execution_count": 6
        }
      ]
    },
    {
      "cell_type": "markdown",
      "metadata": {
        "id": "ysaVxLIn5mpV"
      },
      "source": [
        "##Gunakan heatmap untuk memvisualisasikan rata rata tiap nilai huruf pada tiap kelas"
      ]
    },
    {
      "cell_type": "code",
      "metadata": {
        "colab": {
          "base_uri": "https://localhost:8080/",
          "height": 727
        },
        "id": "Q-ZNCe4zeE2s",
        "outputId": "a525ac1c-7bad-4cdc-fd7d-3fafbe48fa0e"
      },
      "source": [
        "fig, ax = plt.subplots(figsize=(12, 12))\n",
        "\n",
        "sns.heatmap(nilai, robust=True, fmt='.2f', \n",
        "                 annot=True, linewidths=.5, annot_kws={'size':11}, \n",
        "                 cbar_kws={'shrink':.8, 'label':'Rata-Rata'}, ax=ax)                       \n",
        "    \n",
        "ax.set_yticklabels(ax.get_yticklabels(), rotation=0, fontsize=10)\n",
        "ax.set_xticklabels(ax.get_xticklabels(), rotation=0, fontsize=10)\n",
        "plt.title('Nilai Rata-Rata Tiap Range Nilai Huruf pada Tiap Kelas', fontdict={'fontsize':18},    pad=14);\n",
        "\n",
        "plt.show()"
      ],
      "execution_count": null,
      "outputs": [
        {
          "output_type": "display_data",
          "data": {
            "image/png": "[encoded data removed]",
            "text/plain": [
              "<Figure size 864x864 with 2 Axes>"
            ]
          },
          "metadata": {
            "tags": [],
            "needs_background": "light"
          }
        }
      ]
    },
    {
      "cell_type": "markdown",
      "metadata": {
        "id": "haj7AWvu6Bi6"
      },
      "source": [
        "##Hapus nilai yang tidak dibutuhkan seperti tugas, UTS, dan UAS. Kemudian, kelompokkan berdasarkan nilai huruf yang diikuti dengan .count() untuk menjumlahkan datanya sesuai pada soal."
      ]
    },
    {
      "cell_type": "code",
      "metadata": {
        "colab": {
          "base_uri": "https://localhost:8080/",
          "height": 445
        },
        "id": "ypw2xn08INRM",
        "outputId": "f17968ac-6fd7-4823-cc5c-3a8e2f926d9d"
      },
      "source": [
        "nilai_kelas = nilai_only.drop(['Nilai UTS','Nilai UAS','Nilai Tugas'], axis=1)\n",
        "jumlah = nilai_kelas.groupby(['Nilai Huruf','Kelas']).count()\n",
        "jumlah"
      ],
      "execution_count": null,
      "outputs": [
        {
          "output_type": "execute_result",
          "data": {
            "text/html": [
              "<div>\n",
              "<style scoped>\n",
              "    .dataframe tbody tr th:only-of-type {\n",
              "        vertical-align: middle;\n",
              "    }\n",
              "\n",
              "    .dataframe tbody tr th {\n",
              "        vertical-align: top;\n",
              "    }\n",
              "\n",
              "    .dataframe thead th {\n",
              "        text-align: right;\n",
              "    }\n",
              "</style>\n",
              "<table border=\"1\" class=\"dataframe\">\n",
              "  <thead>\n",
              "    <tr style=\"text-align: right;\">\n",
              "      <th></th>\n",
              "      <th></th>\n",
              "      <th>Nilai Akhir</th>\n",
              "    </tr>\n",
              "    <tr>\n",
              "      <th>Nilai Huruf</th>\n",
              "      <th>Kelas</th>\n",
              "      <th></th>\n",
              "    </tr>\n",
              "  </thead>\n",
              "  <tbody>\n",
              "    <tr>\n",
              "      <th rowspan=\"4\" valign=\"top\">C</th>\n",
              "      <th>A</th>\n",
              "      <td>3</td>\n",
              "    </tr>\n",
              "    <tr>\n",
              "      <th>B</th>\n",
              "      <td>2</td>\n",
              "    </tr>\n",
              "    <tr>\n",
              "      <th>C</th>\n",
              "      <td>1</td>\n",
              "    </tr>\n",
              "    <tr>\n",
              "      <th>D</th>\n",
              "      <td>3</td>\n",
              "    </tr>\n",
              "    <tr>\n",
              "      <th rowspan=\"4\" valign=\"top\">D</th>\n",
              "      <th>A</th>\n",
              "      <td>169</td>\n",
              "    </tr>\n",
              "    <tr>\n",
              "      <th>B</th>\n",
              "      <td>159</td>\n",
              "    </tr>\n",
              "    <tr>\n",
              "      <th>C</th>\n",
              "      <td>169</td>\n",
              "    </tr>\n",
              "    <tr>\n",
              "      <th>D</th>\n",
              "      <td>152</td>\n",
              "    </tr>\n",
              "    <tr>\n",
              "      <th rowspan=\"4\" valign=\"top\">E</th>\n",
              "      <th>A</th>\n",
              "      <td>78</td>\n",
              "    </tr>\n",
              "    <tr>\n",
              "      <th>B</th>\n",
              "      <td>89</td>\n",
              "    </tr>\n",
              "    <tr>\n",
              "      <th>C</th>\n",
              "      <td>80</td>\n",
              "    </tr>\n",
              "    <tr>\n",
              "      <th>D</th>\n",
              "      <td>95</td>\n",
              "    </tr>\n",
              "  </tbody>\n",
              "</table>\n",
              "</div>"
            ],
            "text/plain": [
              "                   Nilai Akhir\n",
              "Nilai Huruf Kelas             \n",
              "C           A                3\n",
              "            B                2\n",
              "            C                1\n",
              "            D                3\n",
              "D           A              169\n",
              "            B              159\n",
              "            C              169\n",
              "            D              152\n",
              "E           A               78\n",
              "            B               89\n",
              "            C               80\n",
              "            D               95"
            ]
          },
          "metadata": {
            "tags": []
          },
          "execution_count": 8
        }
      ]
    },
    {
      "cell_type": "markdown",
      "metadata": {
        "id": "rmzdMPYi6e0B"
      },
      "source": [
        "##Lakukan countplot untuk melihat data terbanyak atau terkecil dari suatu nilai huruf pada suatu kelas"
      ]
    },
    {
      "cell_type": "code",
      "metadata": {
        "colab": {
          "base_uri": "https://localhost:8080/",
          "height": 295
        },
        "id": "uCTOQYaLRO5J",
        "outputId": "b5effca0-d971-4b70-fe4b-55878e06c9a5"
      },
      "source": [
        "sns.countplot(x=\"Nilai Huruf\", hue=\"Kelas\", data=nilai_kelas, palette='flare');\n",
        "plt.title('Jumlah Orang yang Mendapatkan Nilai Huruf Tertentu Pada Suatu Kelas')\n",
        "plt.show()"
      ],
      "execution_count": null,
      "outputs": [
        {
          "output_type": "display_data",
          "data": {
            "image/png": "[encoded data removed]",
            "text/plain": [
              "<Figure size 432x288 with 1 Axes>"
            ]
          },
          "metadata": {
            "tags": [],
            "needs_background": "light"
          }
        }
      ]
    },
    {
      "cell_type": "markdown",
      "metadata": {
        "id": "rhQ-mJgl6yDR"
      },
      "source": [
        "##Gunakan heatmap untuk memperjelas angkanya dari visualisasi countplotnya"
      ]
    },
    {
      "cell_type": "code",
      "metadata": {
        "colab": {
          "base_uri": "https://localhost:8080/",
          "height": 727
        },
        "id": "OtpAzinhVGsD",
        "outputId": "4486882b-768e-4e06-a0d7-3fba7bc39d65"
      },
      "source": [
        "fig, ax = plt.subplots(figsize=(12, 12))\n",
        "\n",
        "sns.heatmap(jumlah, robust=True, fmt='.2f', \n",
        "                 annot=True, linewidths=.5, annot_kws={'size':11}, \n",
        "                 cbar_kws={'shrink':.8, 'label':'Jumlah'}, ax=ax)                       \n",
        "    \n",
        "ax.set_yticklabels(ax.get_yticklabels(), rotation=0, fontsize=10)\n",
        "ax.set_xticklabels(ax.get_xticklabels(), rotation=0, fontsize=10)\n",
        "plt.title('Jumlah Orang yang Mendapatkan Nilai Huruf Tertentu Pada Suatu Kelas', fontdict={'fontsize':18},    pad=14);\n",
        "\n",
        "plt.show()"
      ],
      "execution_count": null,
      "outputs": [
        {
          "output_type": "display_data",
          "data": {
            "image/png": "[encoded data removed]",
            "text/plain": [
              "<Figure size 864x864 with 2 Axes>"
            ]
          },
          "metadata": {
            "tags": [],
            "needs_background": "light"
          }
        }
      ]
    },
    {
      "cell_type": "code",
      "metadata": {
        "id": "gsP0hFJ7znSy"
      },
      "source": [
        ""
      ],
      "execution_count": null,
      "outputs": []
    }
  ]
}